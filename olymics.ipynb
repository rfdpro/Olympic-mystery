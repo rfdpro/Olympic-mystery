{
 "cells": [
  {
   "cell_type": "code",
   "execution_count": 3,
   "metadata": {},
   "outputs": [],
   "source": [
    "import pandas as pd\n",
    "import plotly.express as px"
   ]
  },
  {
   "cell_type": "code",
   "execution_count": 4,
   "metadata": {},
   "outputs": [
    {
     "name": "stdout",
     "output_type": "stream",
     "text": [
      "['Ukraine' 'France' 'Spain' 'Sweden' 'Germany' 'Finland' 'Norway' 'Poland'\n",
      " 'Italy' 'Great Britain' 'Romania' 'Belarus' 'Greece' 'Bulgaria' 'Iceland'\n",
      " 'Portugal' 'Czech Republic' 'Denmark' 'Hungary' 'Serbia' 'Austria'\n",
      " 'Ireland' 'Lithuania' 'Latvia' 'Croatia' 'Bosnia and Herzegovina'\n",
      " 'Slovakia' 'Estonia' 'Netherlands' 'Switzerland' 'Moldova' 'Belgium'\n",
      " 'Albania' 'Macedonia' 'Slovenia' 'Montenegro' 'Cyprus' 'Luxembourg'\n",
      " 'Faroe Is.' 'Andorra' 'Malta' 'Liechtenstein' 'Guernsey' 'San Marino'\n",
      " 'Gibraltar' 'Monaco' 'Vatican City']\n"
     ]
    }
   ],
   "source": [
    "countries_df = pd.read_csv('./data/Countries-Europe.csv')\n",
    "countries_df['name'] = countries_df['name'].replace(\"United Kingdom\", \"Great Britain\")\n",
    "countries = countries_df[\"name\"].values\n",
    "print(countries)"
   ]
  },
  {
   "cell_type": "code",
   "execution_count": 5,
   "metadata": {},
   "outputs": [
    {
     "data": {
      "text/html": [
       "<div>\n",
       "<style scoped>\n",
       "    .dataframe tbody tr th:only-of-type {\n",
       "        vertical-align: middle;\n",
       "    }\n",
       "\n",
       "    .dataframe tbody tr th {\n",
       "        vertical-align: top;\n",
       "    }\n",
       "\n",
       "    .dataframe thead th {\n",
       "        text-align: right;\n",
       "    }\n",
       "</style>\n",
       "<table border=\"1\" class=\"dataframe\">\n",
       "  <thead>\n",
       "    <tr style=\"text-align: right;\">\n",
       "      <th></th>\n",
       "      <th>medal_date</th>\n",
       "      <th>medal_type</th>\n",
       "      <th>medal_code</th>\n",
       "      <th>name</th>\n",
       "      <th>gender</th>\n",
       "      <th>country</th>\n",
       "      <th>country_code</th>\n",
       "      <th>nationality</th>\n",
       "      <th>team</th>\n",
       "      <th>team_gender</th>\n",
       "      <th>discipline</th>\n",
       "      <th>event</th>\n",
       "      <th>event_type</th>\n",
       "      <th>url_event</th>\n",
       "      <th>birth_date</th>\n",
       "      <th>code</th>\n",
       "    </tr>\n",
       "    <tr>\n",
       "      <th>full_event</th>\n",
       "      <th></th>\n",
       "      <th></th>\n",
       "      <th></th>\n",
       "      <th></th>\n",
       "      <th></th>\n",
       "      <th></th>\n",
       "      <th></th>\n",
       "      <th></th>\n",
       "      <th></th>\n",
       "      <th></th>\n",
       "      <th></th>\n",
       "      <th></th>\n",
       "      <th></th>\n",
       "      <th></th>\n",
       "      <th></th>\n",
       "      <th></th>\n",
       "    </tr>\n",
       "  </thead>\n",
       "  <tbody>\n",
       "    <tr>\n",
       "      <th>Cycling Road Men's Individual Time Trial</th>\n",
       "      <td>2024-07-27</td>\n",
       "      <td>Gold Medal</td>\n",
       "      <td>1.0</td>\n",
       "      <td>EVENEPOEL Remco</td>\n",
       "      <td>Male</td>\n",
       "      <td>Belgium</td>\n",
       "      <td>BEL</td>\n",
       "      <td>Belgium</td>\n",
       "      <td>NaN</td>\n",
       "      <td>NaN</td>\n",
       "      <td>Cycling Road</td>\n",
       "      <td>Men's Individual Time Trial</td>\n",
       "      <td>ATH</td>\n",
       "      <td>/en/paris-2024/results/cycling-road/men-s-indi...</td>\n",
       "      <td>2000-01-25</td>\n",
       "      <td>1903136.0</td>\n",
       "    </tr>\n",
       "    <tr>\n",
       "      <th>Cycling Road Men's Individual Time Trial</th>\n",
       "      <td>2024-07-27</td>\n",
       "      <td>Silver Medal</td>\n",
       "      <td>2.0</td>\n",
       "      <td>GANNA Filippo</td>\n",
       "      <td>Male</td>\n",
       "      <td>Italy</td>\n",
       "      <td>ITA</td>\n",
       "      <td>Italy</td>\n",
       "      <td>NaN</td>\n",
       "      <td>NaN</td>\n",
       "      <td>Cycling Road</td>\n",
       "      <td>Men's Individual Time Trial</td>\n",
       "      <td>ATH</td>\n",
       "      <td>/en/paris-2024/results/cycling-road/men-s-indi...</td>\n",
       "      <td>1996-07-25</td>\n",
       "      <td>1923520.0</td>\n",
       "    </tr>\n",
       "    <tr>\n",
       "      <th>Cycling Road Men's Individual Time Trial</th>\n",
       "      <td>2024-07-27</td>\n",
       "      <td>Bronze Medal</td>\n",
       "      <td>3.0</td>\n",
       "      <td>van AERT Wout</td>\n",
       "      <td>Male</td>\n",
       "      <td>Belgium</td>\n",
       "      <td>BEL</td>\n",
       "      <td>Belgium</td>\n",
       "      <td>NaN</td>\n",
       "      <td>NaN</td>\n",
       "      <td>Cycling Road</td>\n",
       "      <td>Men's Individual Time Trial</td>\n",
       "      <td>ATH</td>\n",
       "      <td>/en/paris-2024/results/cycling-road/men-s-indi...</td>\n",
       "      <td>1994-09-15</td>\n",
       "      <td>1903147.0</td>\n",
       "    </tr>\n",
       "    <tr>\n",
       "      <th>Cycling Road Women's Individual Time Trial</th>\n",
       "      <td>2024-07-27</td>\n",
       "      <td>Gold Medal</td>\n",
       "      <td>1.0</td>\n",
       "      <td>BROWN Grace</td>\n",
       "      <td>Female</td>\n",
       "      <td>Australia</td>\n",
       "      <td>AUS</td>\n",
       "      <td>Australia</td>\n",
       "      <td>NaN</td>\n",
       "      <td>NaN</td>\n",
       "      <td>Cycling Road</td>\n",
       "      <td>Women's Individual Time Trial</td>\n",
       "      <td>ATH</td>\n",
       "      <td>/en/paris-2024/results/cycling-road/women-s-in...</td>\n",
       "      <td>1992-07-07</td>\n",
       "      <td>1940173.0</td>\n",
       "    </tr>\n",
       "    <tr>\n",
       "      <th>Cycling Road Women's Individual Time Trial</th>\n",
       "      <td>2024-07-27</td>\n",
       "      <td>Silver Medal</td>\n",
       "      <td>2.0</td>\n",
       "      <td>HENDERSON Anna</td>\n",
       "      <td>Female</td>\n",
       "      <td>Great Britain</td>\n",
       "      <td>GBR</td>\n",
       "      <td>Great Britain</td>\n",
       "      <td>NaN</td>\n",
       "      <td>NaN</td>\n",
       "      <td>Cycling Road</td>\n",
       "      <td>Women's Individual Time Trial</td>\n",
       "      <td>ATH</td>\n",
       "      <td>/en/paris-2024/results/cycling-road/women-s-in...</td>\n",
       "      <td>1998-11-14</td>\n",
       "      <td>1912525.0</td>\n",
       "    </tr>\n",
       "  </tbody>\n",
       "</table>\n",
       "</div>"
      ],
      "text/plain": [
       "                                            medal_date    medal_type  \\\n",
       "full_event                                                             \n",
       "Cycling Road Men's Individual Time Trial    2024-07-27    Gold Medal   \n",
       "Cycling Road Men's Individual Time Trial    2024-07-27  Silver Medal   \n",
       "Cycling Road Men's Individual Time Trial    2024-07-27  Bronze Medal   \n",
       "Cycling Road Women's Individual Time Trial  2024-07-27    Gold Medal   \n",
       "Cycling Road Women's Individual Time Trial  2024-07-27  Silver Medal   \n",
       "\n",
       "                                            medal_code             name  \\\n",
       "full_event                                                                \n",
       "Cycling Road Men's Individual Time Trial           1.0  EVENEPOEL Remco   \n",
       "Cycling Road Men's Individual Time Trial           2.0    GANNA Filippo   \n",
       "Cycling Road Men's Individual Time Trial           3.0    van AERT Wout   \n",
       "Cycling Road Women's Individual Time Trial         1.0      BROWN Grace   \n",
       "Cycling Road Women's Individual Time Trial         2.0   HENDERSON Anna   \n",
       "\n",
       "                                            gender        country  \\\n",
       "full_event                                                          \n",
       "Cycling Road Men's Individual Time Trial      Male        Belgium   \n",
       "Cycling Road Men's Individual Time Trial      Male          Italy   \n",
       "Cycling Road Men's Individual Time Trial      Male        Belgium   \n",
       "Cycling Road Women's Individual Time Trial  Female      Australia   \n",
       "Cycling Road Women's Individual Time Trial  Female  Great Britain   \n",
       "\n",
       "                                           country_code    nationality team  \\\n",
       "full_event                                                                    \n",
       "Cycling Road Men's Individual Time Trial            BEL        Belgium  NaN   \n",
       "Cycling Road Men's Individual Time Trial            ITA          Italy  NaN   \n",
       "Cycling Road Men's Individual Time Trial            BEL        Belgium  NaN   \n",
       "Cycling Road Women's Individual Time Trial          AUS      Australia  NaN   \n",
       "Cycling Road Women's Individual Time Trial          GBR  Great Britain  NaN   \n",
       "\n",
       "                                           team_gender    discipline  \\\n",
       "full_event                                                             \n",
       "Cycling Road Men's Individual Time Trial           NaN  Cycling Road   \n",
       "Cycling Road Men's Individual Time Trial           NaN  Cycling Road   \n",
       "Cycling Road Men's Individual Time Trial           NaN  Cycling Road   \n",
       "Cycling Road Women's Individual Time Trial         NaN  Cycling Road   \n",
       "Cycling Road Women's Individual Time Trial         NaN  Cycling Road   \n",
       "\n",
       "                                                                    event  \\\n",
       "full_event                                                                  \n",
       "Cycling Road Men's Individual Time Trial      Men's Individual Time Trial   \n",
       "Cycling Road Men's Individual Time Trial      Men's Individual Time Trial   \n",
       "Cycling Road Men's Individual Time Trial      Men's Individual Time Trial   \n",
       "Cycling Road Women's Individual Time Trial  Women's Individual Time Trial   \n",
       "Cycling Road Women's Individual Time Trial  Women's Individual Time Trial   \n",
       "\n",
       "                                           event_type  \\\n",
       "full_event                                              \n",
       "Cycling Road Men's Individual Time Trial          ATH   \n",
       "Cycling Road Men's Individual Time Trial          ATH   \n",
       "Cycling Road Men's Individual Time Trial          ATH   \n",
       "Cycling Road Women's Individual Time Trial        ATH   \n",
       "Cycling Road Women's Individual Time Trial        ATH   \n",
       "\n",
       "                                                                                    url_event  \\\n",
       "full_event                                                                                      \n",
       "Cycling Road Men's Individual Time Trial    /en/paris-2024/results/cycling-road/men-s-indi...   \n",
       "Cycling Road Men's Individual Time Trial    /en/paris-2024/results/cycling-road/men-s-indi...   \n",
       "Cycling Road Men's Individual Time Trial    /en/paris-2024/results/cycling-road/men-s-indi...   \n",
       "Cycling Road Women's Individual Time Trial  /en/paris-2024/results/cycling-road/women-s-in...   \n",
       "Cycling Road Women's Individual Time Trial  /en/paris-2024/results/cycling-road/women-s-in...   \n",
       "\n",
       "                                            birth_date       code  \n",
       "full_event                                                         \n",
       "Cycling Road Men's Individual Time Trial    2000-01-25  1903136.0  \n",
       "Cycling Road Men's Individual Time Trial    1996-07-25  1923520.0  \n",
       "Cycling Road Men's Individual Time Trial    1994-09-15  1903147.0  \n",
       "Cycling Road Women's Individual Time Trial  1992-07-07  1940173.0  \n",
       "Cycling Road Women's Individual Time Trial  1998-11-14  1912525.0  "
      ]
     },
     "execution_count": 5,
     "metadata": {},
     "output_type": "execute_result"
    }
   ],
   "source": [
    "# We need to equate country with the country code used in the data\n",
    "df = pd.read_csv(\"./data/medallists.csv\")\n",
    "df[\"full_event\"] = df[\"discipline\"] + \" \" + df[\"event\"]\n",
    "df.set_index(\"full_event\", inplace=True)\n",
    "df.head()"
   ]
  },
  {
   "cell_type": "code",
   "execution_count": 6,
   "metadata": {},
   "outputs": [
    {
     "data": {
      "text/plain": [
       "20"
      ]
     },
     "execution_count": 6,
     "metadata": {},
     "output_type": "execute_result"
    }
   ],
   "source": [
    "l = []\n",
    "for c in countries:\n",
    "    if c not in df[\"country\"].values:\n",
    "        l.append(c)\n",
    "\n",
    "len(l) # Countries that are not in the data (this is correct because 20 european countries did not win any medals)"
   ]
  },
  {
   "cell_type": "code",
   "execution_count": 7,
   "metadata": {},
   "outputs": [],
   "source": [
    "# We also need to determine whether to include multiple athletes from the same country who won medals in the same event\n",
    "include_multiple = True\n",
    "if include_multiple:\n",
    "    df = df.reset_index()\n",
    "    df = df.drop_duplicates(subset=[\"full_event\", \"country\", \"medal_code\"])\n",
    "    df.set_index(\"full_event\", inplace=True)"
   ]
  },
  {
   "cell_type": "code",
   "execution_count": 8,
   "metadata": {},
   "outputs": [],
   "source": [
    "# For each event, how many times did someone from our list win any medal\n",
    "df['is_in'] = df[\"country\"].isin(countries)\n",
    "df[\"medal_wins\"] = df.groupby(level=0).apply(lambda x: x[\"is_in\"].sum())\n",
    "\n",
    "# Let's reduce the frame to only countries that are in the list\n",
    "wins_df = df[df[\"is_in\"]]"
   ]
  },
  {
   "cell_type": "code",
   "execution_count": 9,
   "metadata": {},
   "outputs": [
    {
     "data": {
      "text/html": [
       "<div>\n",
       "<style scoped>\n",
       "    .dataframe tbody tr th:only-of-type {\n",
       "        vertical-align: middle;\n",
       "    }\n",
       "\n",
       "    .dataframe tbody tr th {\n",
       "        vertical-align: top;\n",
       "    }\n",
       "\n",
       "    .dataframe thead th {\n",
       "        text-align: right;\n",
       "    }\n",
       "</style>\n",
       "<table border=\"1\" class=\"dataframe\">\n",
       "  <thead>\n",
       "    <tr style=\"text-align: right;\">\n",
       "      <th>medal_code</th>\n",
       "      <th>1.0</th>\n",
       "      <th>2.0</th>\n",
       "      <th>3.0</th>\n",
       "      <th>total</th>\n",
       "      <th>winpct</th>\n",
       "      <th>bronzepct</th>\n",
       "      <th>is_in</th>\n",
       "    </tr>\n",
       "    <tr>\n",
       "      <th>country</th>\n",
       "      <th></th>\n",
       "      <th></th>\n",
       "      <th></th>\n",
       "      <th></th>\n",
       "      <th></th>\n",
       "      <th></th>\n",
       "      <th></th>\n",
       "    </tr>\n",
       "  </thead>\n",
       "  <tbody>\n",
       "    <tr>\n",
       "      <th>AIN</th>\n",
       "      <td>1.0</td>\n",
       "      <td>3.0</td>\n",
       "      <td>1.0</td>\n",
       "      <td>5.0</td>\n",
       "      <td>0.200000</td>\n",
       "      <td>0.200000</td>\n",
       "      <td>False</td>\n",
       "    </tr>\n",
       "    <tr>\n",
       "      <th>Albania</th>\n",
       "      <td>0.0</td>\n",
       "      <td>0.0</td>\n",
       "      <td>2.0</td>\n",
       "      <td>2.0</td>\n",
       "      <td>0.000000</td>\n",
       "      <td>1.000000</td>\n",
       "      <td>True</td>\n",
       "    </tr>\n",
       "    <tr>\n",
       "      <th>Algeria</th>\n",
       "      <td>2.0</td>\n",
       "      <td>0.0</td>\n",
       "      <td>1.0</td>\n",
       "      <td>3.0</td>\n",
       "      <td>0.666667</td>\n",
       "      <td>0.333333</td>\n",
       "      <td>False</td>\n",
       "    </tr>\n",
       "    <tr>\n",
       "      <th>Argentina</th>\n",
       "      <td>1.0</td>\n",
       "      <td>1.0</td>\n",
       "      <td>1.0</td>\n",
       "      <td>3.0</td>\n",
       "      <td>0.333333</td>\n",
       "      <td>0.333333</td>\n",
       "      <td>False</td>\n",
       "    </tr>\n",
       "    <tr>\n",
       "      <th>Armenia</th>\n",
       "      <td>0.0</td>\n",
       "      <td>3.0</td>\n",
       "      <td>1.0</td>\n",
       "      <td>4.0</td>\n",
       "      <td>0.000000</td>\n",
       "      <td>0.250000</td>\n",
       "      <td>False</td>\n",
       "    </tr>\n",
       "  </tbody>\n",
       "</table>\n",
       "</div>"
      ],
      "text/plain": [
       "medal_code  1.0  2.0  3.0  total    winpct  bronzepct  is_in\n",
       "country                                                     \n",
       "AIN         1.0  3.0  1.0    5.0  0.200000   0.200000  False\n",
       "Albania     0.0  0.0  2.0    2.0  0.000000   1.000000   True\n",
       "Algeria     2.0  0.0  1.0    3.0  0.666667   0.333333  False\n",
       "Argentina   1.0  1.0  1.0    3.0  0.333333   0.333333  False\n",
       "Armenia     0.0  3.0  1.0    4.0  0.000000   0.250000  False"
      ]
     },
     "execution_count": 9,
     "metadata": {},
     "output_type": "execute_result"
    }
   ],
   "source": [
    "# For each country, how many times did they win each medal\n",
    "medal_counts = df.groupby(\"country\")[\"medal_code\"].value_counts().unstack().fillna(0)\n",
    "medal_counts[\"total\"] = medal_counts.sum(axis=1)\n",
    "medal_counts[\"winpct\"] = medal_counts[1] / medal_counts[\"total\"]\n",
    "medal_counts[\"bronzepct\"] = medal_counts[3] / medal_counts[\"total\"]\n",
    "medal_counts.sort_values(\"winpct\", ascending=True)\n",
    "medal_counts[\"is_in\"] = medal_counts.index.isin(countries)\n",
    "medal_counts.head()"
   ]
  },
  {
   "cell_type": "code",
   "execution_count": 10,
   "metadata": {},
   "outputs": [
    {
     "name": "stdout",
     "output_type": "stream",
     "text": [
      "119.0 126.0 159.0 404.0\n"
     ]
    }
   ],
   "source": [
    "# Let's verify that we're seeing the same mystery\n",
    "insample = medal_counts[medal_counts[\"is_in\"] == True]\n",
    "golds = insample[1].sum()\n",
    "silvers = insample[2].sum()\n",
    "bronzes = insample[3].sum()\n",
    "total = insample[\"total\"].sum()\n",
    "print(golds, silvers, bronzes, total) # <- Yup"
   ]
  },
  {
   "cell_type": "code",
   "execution_count": 11,
   "metadata": {},
   "outputs": [
    {
     "name": "stdout",
     "output_type": "stream",
     "text": [
      "210.0 204.0 225.0 639.0\n"
     ]
    }
   ],
   "source": [
    "# Sanity check, lets look out of sample\n",
    "outsample = medal_counts[medal_counts[\"is_in\"] == False]\n",
    "golds = outsample[1].sum()\n",
    "silvers = outsample[2].sum()\n",
    "bronzes = outsample[3].sum()\n",
    "total = outsample[\"total\"].sum()\n",
    "print(golds, silvers, bronzes, total) # <- There does seem to be some weighting towards bronze but I think we'll easally explain this later. There's still a ~5% overweighing of bronze for European countries over non-European countries"
   ]
  },
  {
   "cell_type": "code",
   "execution_count": 13,
   "metadata": {},
   "outputs": [
    {
     "name": "stdout",
     "output_type": "stream",
     "text": [
      "Medals  Events  Total Medals  Percentage of Total Medals\n",
      "1         117      117         28.96%\n",
      "2         86       172         42.57%\n",
      "3         37       111         27.48%\n",
      "4         1        4           0.99%\n"
     ]
    }
   ],
   "source": [
    "# Here is the result of coincidences in our countries list\n",
    "events_by_medal_wins = wins_df[~wins_df.index.duplicated(keep=\"first\")][\"medal_wins\"].value_counts()\n",
    "\n",
    "print(f\"Medals  Events  Total Medals  Percentage of Total Medals\")\n",
    "print(f\"{1}         {events_by_medal_wins[1]}      {events_by_medal_wins[1]*1}         {(events_by_medal_wins[1]*1)/len(wins_df)*100:.2f}%\")\n",
    "print(f\"{2}         {events_by_medal_wins[2]}       {events_by_medal_wins[2]*2}         {(events_by_medal_wins[2]*2)/len(wins_df)*100:.2f}%\")\n",
    "print(f\"{3}         {events_by_medal_wins[3]}       {events_by_medal_wins[3]*3}         {(events_by_medal_wins[3]*3)/len(wins_df)*100:.2f}%\")\n",
    "print(f\"{4}         {events_by_medal_wins[4]}        {events_by_medal_wins[4]*4}           {(events_by_medal_wins[4]*4)/len(wins_df)*100:.2f}%\")"
   ]
  },
  {
   "cell_type": "code",
   "execution_count": 14,
   "metadata": {},
   "outputs": [],
   "source": [
    "# So we're really only talking about the 263 events where a country from our list won a medal and didn't have to score bronze."
   ]
  },
  {
   "cell_type": "code",
   "execution_count": 15,
   "metadata": {},
   "outputs": [
    {
     "data": {
      "text/html": [
       "<div>\n",
       "<style scoped>\n",
       "    .dataframe tbody tr th:only-of-type {\n",
       "        vertical-align: middle;\n",
       "    }\n",
       "\n",
       "    .dataframe tbody tr th {\n",
       "        vertical-align: top;\n",
       "    }\n",
       "\n",
       "    .dataframe thead th {\n",
       "        text-align: right;\n",
       "    }\n",
       "</style>\n",
       "<table border=\"1\" class=\"dataframe\">\n",
       "  <thead>\n",
       "    <tr style=\"text-align: right;\">\n",
       "      <th></th>\n",
       "      <th>medal_date</th>\n",
       "      <th>medal_type</th>\n",
       "      <th>medal_code</th>\n",
       "      <th>name</th>\n",
       "      <th>gender</th>\n",
       "      <th>country</th>\n",
       "      <th>country_code</th>\n",
       "      <th>nationality</th>\n",
       "      <th>team</th>\n",
       "      <th>team_gender</th>\n",
       "      <th>discipline</th>\n",
       "      <th>event</th>\n",
       "      <th>event_type</th>\n",
       "      <th>url_event</th>\n",
       "      <th>birth_date</th>\n",
       "      <th>code</th>\n",
       "      <th>is_in</th>\n",
       "      <th>medal_wins</th>\n",
       "    </tr>\n",
       "    <tr>\n",
       "      <th>full_event</th>\n",
       "      <th></th>\n",
       "      <th></th>\n",
       "      <th></th>\n",
       "      <th></th>\n",
       "      <th></th>\n",
       "      <th></th>\n",
       "      <th></th>\n",
       "      <th></th>\n",
       "      <th></th>\n",
       "      <th></th>\n",
       "      <th></th>\n",
       "      <th></th>\n",
       "      <th></th>\n",
       "      <th></th>\n",
       "      <th></th>\n",
       "      <th></th>\n",
       "      <th></th>\n",
       "      <th></th>\n",
       "    </tr>\n",
       "  </thead>\n",
       "  <tbody>\n",
       "    <tr>\n",
       "      <th>Judo Women -70 kg</th>\n",
       "      <td>2024-07-31</td>\n",
       "      <td>Gold Medal</td>\n",
       "      <td>1.0</td>\n",
       "      <td>MATIC Barbara</td>\n",
       "      <td>Female</td>\n",
       "      <td>Croatia</td>\n",
       "      <td>CRO</td>\n",
       "      <td>Croatia</td>\n",
       "      <td>NaN</td>\n",
       "      <td>NaN</td>\n",
       "      <td>Judo</td>\n",
       "      <td>Women -70 kg</td>\n",
       "      <td>HATH</td>\n",
       "      <td>/en/paris-2024/results/judo/women--70-kg/fnl-0...</td>\n",
       "      <td>1994-12-03</td>\n",
       "      <td>1898499.0</td>\n",
       "      <td>True</td>\n",
       "      <td>4</td>\n",
       "    </tr>\n",
       "    <tr>\n",
       "      <th>Judo Women -70 kg</th>\n",
       "      <td>2024-07-31</td>\n",
       "      <td>Silver Medal</td>\n",
       "      <td>2.0</td>\n",
       "      <td>BUTKEREIT Miriam</td>\n",
       "      <td>Female</td>\n",
       "      <td>Germany</td>\n",
       "      <td>GER</td>\n",
       "      <td>Germany</td>\n",
       "      <td>NaN</td>\n",
       "      <td>NaN</td>\n",
       "      <td>Judo</td>\n",
       "      <td>Women -70 kg</td>\n",
       "      <td>HATH</td>\n",
       "      <td>/en/paris-2024/results/judo/women--70-kg/fnl-0...</td>\n",
       "      <td>1994-05-08</td>\n",
       "      <td>1563082.0</td>\n",
       "      <td>True</td>\n",
       "      <td>4</td>\n",
       "    </tr>\n",
       "    <tr>\n",
       "      <th>Judo Women -70 kg</th>\n",
       "      <td>2024-07-31</td>\n",
       "      <td>Bronze Medal</td>\n",
       "      <td>3.0</td>\n",
       "      <td>POLLERES Michaela</td>\n",
       "      <td>Female</td>\n",
       "      <td>Austria</td>\n",
       "      <td>AUT</td>\n",
       "      <td>Austria</td>\n",
       "      <td>NaN</td>\n",
       "      <td>NaN</td>\n",
       "      <td>Judo</td>\n",
       "      <td>Women -70 kg</td>\n",
       "      <td>HATH</td>\n",
       "      <td>/en/paris-2024/results/judo/women--70-kg/repf0...</td>\n",
       "      <td>1997-07-15</td>\n",
       "      <td>1566421.0</td>\n",
       "      <td>True</td>\n",
       "      <td>4</td>\n",
       "    </tr>\n",
       "    <tr>\n",
       "      <th>Judo Women -70 kg</th>\n",
       "      <td>2024-07-31</td>\n",
       "      <td>Bronze Medal</td>\n",
       "      <td>3.0</td>\n",
       "      <td>WILLEMS Gabriella</td>\n",
       "      <td>Female</td>\n",
       "      <td>Belgium</td>\n",
       "      <td>BEL</td>\n",
       "      <td>Belgium</td>\n",
       "      <td>NaN</td>\n",
       "      <td>NaN</td>\n",
       "      <td>Judo</td>\n",
       "      <td>Women -70 kg</td>\n",
       "      <td>HATH</td>\n",
       "      <td>/en/paris-2024/results/judo/women--70-kg/repf0...</td>\n",
       "      <td>1997-07-01</td>\n",
       "      <td>1903248.0</td>\n",
       "      <td>True</td>\n",
       "      <td>4</td>\n",
       "    </tr>\n",
       "  </tbody>\n",
       "</table>\n",
       "</div>"
      ],
      "text/plain": [
       "                   medal_date    medal_type  medal_code               name  \\\n",
       "full_event                                                                   \n",
       "Judo Women -70 kg  2024-07-31    Gold Medal         1.0      MATIC Barbara   \n",
       "Judo Women -70 kg  2024-07-31  Silver Medal         2.0   BUTKEREIT Miriam   \n",
       "Judo Women -70 kg  2024-07-31  Bronze Medal         3.0  POLLERES Michaela   \n",
       "Judo Women -70 kg  2024-07-31  Bronze Medal         3.0  WILLEMS Gabriella   \n",
       "\n",
       "                   gender  country country_code nationality team team_gender  \\\n",
       "full_event                                                                     \n",
       "Judo Women -70 kg  Female  Croatia          CRO     Croatia  NaN         NaN   \n",
       "Judo Women -70 kg  Female  Germany          GER     Germany  NaN         NaN   \n",
       "Judo Women -70 kg  Female  Austria          AUT     Austria  NaN         NaN   \n",
       "Judo Women -70 kg  Female  Belgium          BEL     Belgium  NaN         NaN   \n",
       "\n",
       "                  discipline         event event_type  \\\n",
       "full_event                                              \n",
       "Judo Women -70 kg       Judo  Women -70 kg       HATH   \n",
       "Judo Women -70 kg       Judo  Women -70 kg       HATH   \n",
       "Judo Women -70 kg       Judo  Women -70 kg       HATH   \n",
       "Judo Women -70 kg       Judo  Women -70 kg       HATH   \n",
       "\n",
       "                                                           url_event  \\\n",
       "full_event                                                             \n",
       "Judo Women -70 kg  /en/paris-2024/results/judo/women--70-kg/fnl-0...   \n",
       "Judo Women -70 kg  /en/paris-2024/results/judo/women--70-kg/fnl-0...   \n",
       "Judo Women -70 kg  /en/paris-2024/results/judo/women--70-kg/repf0...   \n",
       "Judo Women -70 kg  /en/paris-2024/results/judo/women--70-kg/repf0...   \n",
       "\n",
       "                   birth_date       code  is_in  medal_wins  \n",
       "full_event                                                   \n",
       "Judo Women -70 kg  1994-12-03  1898499.0   True           4  \n",
       "Judo Women -70 kg  1994-05-08  1563082.0   True           4  \n",
       "Judo Women -70 kg  1997-07-15  1566421.0   True           4  \n",
       "Judo Women -70 kg  1997-07-01  1903248.0   True           4  "
      ]
     },
     "execution_count": 15,
     "metadata": {},
     "output_type": "execute_result"
    }
   ],
   "source": [
    "# Let's take a look at the event with 4 medals won\n",
    "wins_df[wins_df[\"medal_wins\"] == 4]"
   ]
  },
  {
   "cell_type": "code",
   "execution_count": 16,
   "metadata": {},
   "outputs": [
    {
     "data": {
      "text/plain": [
       "medal_type\n",
       "Bronze Medal    0.401709\n",
       "Silver Medal    0.307692\n",
       "Gold Medal      0.290598\n",
       "Name: proportion, dtype: float64"
      ]
     },
     "execution_count": 16,
     "metadata": {},
     "output_type": "execute_result"
    }
   ],
   "source": [
    "# Now, I would like to know when one medal is won, what % is it each rank (33% is expected all else being equal)\n",
    "wins_df[wins_df[\"medal_wins\"] == 1][\"medal_type\"].value_counts(normalize=True)"
   ]
  },
  {
   "cell_type": "code",
   "execution_count": 17,
   "metadata": {},
   "outputs": [
    {
     "data": {
      "text/plain": [
       "medal_type\n",
       "Bronze Medal    0.406977\n",
       "Silver Medal    0.308140\n",
       "Gold Medal      0.284884\n",
       "Name: proportion, dtype: float64"
      ]
     },
     "execution_count": 17,
     "metadata": {},
     "output_type": "execute_result"
    }
   ],
   "source": [
    "# How about when two medals are won\n",
    "wins_df[wins_df[\"medal_wins\"] == 2][\"medal_type\"].value_counts(normalize=True) # <- This being very close to the rate that single medals are won is interesting and also rules out the impact of some events that give bronze to all lesser place finishers as an explanation for the phenomenon"
   ]
  },
  {
   "cell_type": "code",
   "execution_count": 18,
   "metadata": {},
   "outputs": [
    {
     "data": {
      "text/plain": [
       "medal_type\n",
       "Bronze Medal    40\n",
       "Silver Medal    36\n",
       "Gold Medal      35\n",
       "Name: count, dtype: int64"
      ]
     },
     "execution_count": 18,
     "metadata": {},
     "output_type": "execute_result"
    }
   ],
   "source": [
    "# Sanity check\n",
    "wins_df[wins_df[\"medal_wins\"] == 3][\"medal_type\"].value_counts() # equal exactly is expected (see below)"
   ]
  },
  {
   "cell_type": "code",
   "execution_count": 19,
   "metadata": {},
   "outputs": [
    {
     "data": {
      "text/plain": [
       "full_event\n",
       "3x3 Basketball Men                           6.0\n",
       "Athletics Men's Triple Jump                  6.0\n",
       "Athletics Women's Heptathlon                 6.0\n",
       "Beach Volleyball Men                         6.0\n",
       "Boxing Men's +92kg                           8.0\n",
       "Canoe Slalom Men's Canoe Single              6.0\n",
       "Canoe Slalom Men's Kayak Single              6.0\n",
       "Canoe Sprint Women's Kayak Double 500m       8.0\n",
       "Cycling BMX Racing Men                       6.0\n",
       "Cycling Road Men's Individual Time Trial     6.0\n",
       "Cycling Road Men's Road Race                 6.0\n",
       "Cycling Track Men's Madison                  6.0\n",
       "Cycling Track Men's Omnium                   6.0\n",
       "Cycling Track Women's Madison                6.0\n",
       "Equestrian Dressage Individual               6.0\n",
       "Equestrian Dressage Team                     6.0\n",
       "Equestrian Jumping Individual                6.0\n",
       "Fencing Women's Sabre Individual             6.0\n",
       "Fencing Women's Épée Team                    6.0\n",
       "Handball Men                                 6.0\n",
       "Handball Women                               6.0\n",
       "Marathon Swimming Men's 10km                 6.0\n",
       "Rhythmic Gymnastics Individual All-Around    6.0\n",
       "Rowing Lightweight Men's Double Sculls       6.0\n",
       "Rowing Lightweight Women's Double Sculls     6.0\n",
       "Rowing Men's Double Sculls                   6.0\n",
       "Rowing Men's Pair                            6.0\n",
       "Rowing Men's Quadruple Sculls                6.0\n",
       "Rowing Women's Quadruple Sculls              6.0\n",
       "Sailing Women's Dinghy                       6.0\n",
       "Sailing Women's Kite                         6.0\n",
       "Sailing Women's Skiff                        6.0\n",
       "Swimming Men's 200m Backstroke               6.0\n",
       "Taekwondo Women -67kg                        6.0\n",
       "Tennis Men's Singles                         6.0\n",
       "Triathlon Women's Individual                 6.0\n",
       "Wrestling Men's Greco-Roman 87kg             7.0\n",
       "Name: medal_code, dtype: float64"
      ]
     },
     "execution_count": 19,
     "metadata": {},
     "output_type": "execute_result"
    }
   ],
   "source": [
    "# This shows that the above accounts for a tie for silver and a few ties for bronze, but the majority of the cases are as expected\n",
    "wins_df[wins_df[\"medal_wins\"] == 3].groupby(level=0)[\"medal_code\"].sum()"
   ]
  },
  {
   "cell_type": "code",
   "execution_count": 20,
   "metadata": {},
   "outputs": [],
   "source": [
    "# This all brings up the question, maybe Europe gets bronze ~10% more not because of their performance, but because in those events they are dominated (game theoretical) by other countries"
   ]
  },
  {
   "cell_type": "code",
   "execution_count": 21,
   "metadata": {},
   "outputs": [],
   "source": [
    "lost_to = []\n",
    "won_to = []\n",
    "\n",
    "for event in df[df[\"medal_wins\"] == 1].index.unique():\n",
    "    event_df = df.loc[event]\n",
    "    # Get the placement (medal_code) of our country\n",
    "    placement = event_df[event_df[\"country\"].isin(countries)][\"medal_code\"].values[0]\n",
    "    if placement == 3: # Bronze\n",
    "        # Get the other countries that won medals\n",
    "        other_countries = event_df[~event_df[\"country\"].isin(countries)][\"country\"].values\n",
    "        lost_to.extend(other_countries)\n",
    "    elif placement == 1: # Gold\n",
    "        # Get the other countries that won medals\n",
    "        other_countries = event_df[~event_df[\"country\"].isin(countries)][\"country\"].values\n",
    "        won_to.extend(other_countries)\n",
    "    elif placement == 2:\n",
    "        # Get the counties with medal_code 1\n",
    "        other_countries = event_df[event_df[\"medal_code\"] == 1][\"country\"].values\n",
    "        lost_to.extend(other_countries)\n",
    "        # Get the counties with medal_code 3\n",
    "        other_countries = event_df[event_df[\"medal_code\"] == 3][\"country\"].values\n",
    "        won_to.extend(other_countries)\n",
    "    else:\n",
    "        print(\"Error\")"
   ]
  },
  {
   "cell_type": "code",
   "execution_count": 22,
   "metadata": {},
   "outputs": [
    {
     "data": {
      "text/html": [
       "<div>\n",
       "<style scoped>\n",
       "    .dataframe tbody tr th:only-of-type {\n",
       "        vertical-align: middle;\n",
       "    }\n",
       "\n",
       "    .dataframe tbody tr th {\n",
       "        vertical-align: top;\n",
       "    }\n",
       "\n",
       "    .dataframe thead th {\n",
       "        text-align: right;\n",
       "    }\n",
       "</style>\n",
       "<table border=\"1\" class=\"dataframe\">\n",
       "  <thead>\n",
       "    <tr style=\"text-align: right;\">\n",
       "      <th></th>\n",
       "      <th>lost_to</th>\n",
       "      <th>won_to</th>\n",
       "      <th>total</th>\n",
       "      <th>diff</th>\n",
       "      <th>winpct</th>\n",
       "    </tr>\n",
       "  </thead>\n",
       "  <tbody>\n",
       "    <tr>\n",
       "      <th>Uzbekistan</th>\n",
       "      <td>6.0</td>\n",
       "      <td>2.0</td>\n",
       "      <td>8.0</td>\n",
       "      <td>-4.0</td>\n",
       "      <td>0.250000</td>\n",
       "    </tr>\n",
       "    <tr>\n",
       "      <th>Korea</th>\n",
       "      <td>11.0</td>\n",
       "      <td>5.0</td>\n",
       "      <td>16.0</td>\n",
       "      <td>-6.0</td>\n",
       "      <td>0.312500</td>\n",
       "    </tr>\n",
       "    <tr>\n",
       "      <th>China</th>\n",
       "      <td>21.0</td>\n",
       "      <td>10.0</td>\n",
       "      <td>31.0</td>\n",
       "      <td>-11.0</td>\n",
       "      <td>0.322581</td>\n",
       "    </tr>\n",
       "    <tr>\n",
       "      <th>United States</th>\n",
       "      <td>26.0</td>\n",
       "      <td>18.0</td>\n",
       "      <td>44.0</td>\n",
       "      <td>-8.0</td>\n",
       "      <td>0.409091</td>\n",
       "    </tr>\n",
       "    <tr>\n",
       "      <th>Brazil</th>\n",
       "      <td>7.0</td>\n",
       "      <td>6.0</td>\n",
       "      <td>13.0</td>\n",
       "      <td>-1.0</td>\n",
       "      <td>0.461538</td>\n",
       "    </tr>\n",
       "    <tr>\n",
       "      <th>Japan</th>\n",
       "      <td>8.0</td>\n",
       "      <td>8.0</td>\n",
       "      <td>16.0</td>\n",
       "      <td>0.0</td>\n",
       "      <td>0.500000</td>\n",
       "    </tr>\n",
       "    <tr>\n",
       "      <th>Canada</th>\n",
       "      <td>5.0</td>\n",
       "      <td>6.0</td>\n",
       "      <td>11.0</td>\n",
       "      <td>1.0</td>\n",
       "      <td>0.545455</td>\n",
       "    </tr>\n",
       "    <tr>\n",
       "      <th>Australia</th>\n",
       "      <td>9.0</td>\n",
       "      <td>11.0</td>\n",
       "      <td>20.0</td>\n",
       "      <td>2.0</td>\n",
       "      <td>0.550000</td>\n",
       "    </tr>\n",
       "    <tr>\n",
       "      <th>Kenya</th>\n",
       "      <td>3.0</td>\n",
       "      <td>4.0</td>\n",
       "      <td>7.0</td>\n",
       "      <td>1.0</td>\n",
       "      <td>0.571429</td>\n",
       "    </tr>\n",
       "    <tr>\n",
       "      <th>New Zealand</th>\n",
       "      <td>3.0</td>\n",
       "      <td>4.0</td>\n",
       "      <td>7.0</td>\n",
       "      <td>1.0</td>\n",
       "      <td>0.571429</td>\n",
       "    </tr>\n",
       "    <tr>\n",
       "      <th>IR Iran</th>\n",
       "      <td>5.0</td>\n",
       "      <td>NaN</td>\n",
       "      <td>5.0</td>\n",
       "      <td>NaN</td>\n",
       "      <td>NaN</td>\n",
       "    </tr>\n",
       "  </tbody>\n",
       "</table>\n",
       "</div>"
      ],
      "text/plain": [
       "               lost_to  won_to  total  diff    winpct\n",
       "Uzbekistan         6.0     2.0    8.0  -4.0  0.250000\n",
       "Korea             11.0     5.0   16.0  -6.0  0.312500\n",
       "China             21.0    10.0   31.0 -11.0  0.322581\n",
       "United States     26.0    18.0   44.0  -8.0  0.409091\n",
       "Brazil             7.0     6.0   13.0  -1.0  0.461538\n",
       "Japan              8.0     8.0   16.0   0.0  0.500000\n",
       "Canada             5.0     6.0   11.0   1.0  0.545455\n",
       "Australia          9.0    11.0   20.0   2.0  0.550000\n",
       "Kenya              3.0     4.0    7.0   1.0  0.571429\n",
       "New Zealand        3.0     4.0    7.0   1.0  0.571429\n",
       "IR Iran            5.0     NaN    5.0   NaN       NaN"
      ]
     },
     "execution_count": 22,
     "metadata": {},
     "output_type": "execute_result"
    }
   ],
   "source": [
    "# count occurrences of each country\n",
    "lost = pd.Series(lost_to).value_counts()\n",
    "won = pd.Series(won_to).value_counts()\n",
    "\n",
    "# merge the two series on the index\n",
    "dominance_matrix = pd.DataFrame({\"lost_to\": lost, \"won_to\": won})\n",
    "\n",
    "# calculate the percentage difference\n",
    "dominance_matrix[\"total\"] = dominance_matrix.sum(axis=1)\n",
    "dominance_matrix['diff'] = (dominance_matrix[\"won_to\"] - dominance_matrix[\"lost_to\"])\n",
    "dominance_matrix[\"winpct\"] = dominance_matrix[\"won_to\"] / dominance_matrix[\"total\"]\n",
    "dominance_matrix[dominance_matrix['total'] > 4].sort_values(\"winpct\", ascending=True)"
   ]
  },
  {
   "cell_type": "code",
   "execution_count": 23,
   "metadata": {},
   "outputs": [
    {
     "data": {
      "text/plain": [
       "-29.0"
      ]
     },
     "execution_count": 23,
     "metadata": {},
     "output_type": "execute_result"
    }
   ],
   "source": [
    "dominance_matrix[dominance_matrix[\"diff\"].abs() > 2][\"diff\"].sum()"
   ]
  },
  {
   "cell_type": "code",
   "execution_count": 24,
   "metadata": {},
   "outputs": [],
   "source": [
    "# Out of the 263 events in question we expect to lose 29 to a team who generally perform better across events, which is actually more impact than the 5% we were looking for.\n",
    "# This wouldn't explain why this seems to happen to Europe but not nessisarally any individual country. So we should check this assumption...\n",
    "# Do any individual countries (both insample and out) have a similar distribution of medals?"
   ]
  },
  {
   "cell_type": "code",
   "execution_count": 25,
   "metadata": {},
   "outputs": [
    {
     "data": {
      "text/plain": [
       "<Axes: xlabel='total'>"
      ]
     },
     "execution_count": 25,
     "metadata": {},
     "output_type": "execute_result"
    },
    {
     "data": {
      "image/png": "[encoded data removed]",
      "text/plain": [
       "<Figure size 640x480 with 1 Axes>"
      ]
     },
     "metadata": {},
     "output_type": "display_data"
    }
   ],
   "source": [
    "# What's the distribution of bronze medals won by countries based on the total number of medals they've won\n",
    "total = pd.DataFrame(\n",
    "    {\n",
    "        \"total\": medal_counts.groupby(\"total\")[\"total\"].sum(),\n",
    "        \"bronze\": medal_counts.groupby(\"total\")[3].sum(),\n",
    "    }\n",
    ")\n",
    "dist = total[\"bronze\"].cumsum() / total[\"total\"].cumsum()\n",
    "dist.plot()"
   ]
  },
  {
   "cell_type": "code",
   "execution_count": 26,
   "metadata": {},
   "outputs": [
    {
     "data": {
      "text/plain": [
       "0.3337593357963451"
      ]
     },
     "execution_count": 26,
     "metadata": {},
     "output_type": "execute_result"
    }
   ],
   "source": [
    "# For example, what is the average percentage of bronze medals won by countries that won more than n(10) medals\n",
    "medal_counts[medal_counts[\"total\"] > 10][\"bronzepct\"].mean()"
   ]
  },
  {
   "cell_type": "code",
   "execution_count": 27,
   "metadata": {},
   "outputs": [
    {
     "data": {
      "text/plain": [
       "0.45827097505668934"
      ]
     },
     "execution_count": 27,
     "metadata": {},
     "output_type": "execute_result"
    }
   ],
   "source": [
    "# Less than n medals\n",
    "medal_counts[medal_counts[\"total\"] < 10][\"bronzepct\"].mean()"
   ]
  },
  {
   "cell_type": "code",
   "execution_count": 28,
   "metadata": {},
   "outputs": [
    {
     "data": {
      "application/vnd.plotly.v1+json": {
       "config": {
        "plotlyServerURL": "https://plot.ly"
       },
       "data": [
        {
         "hovertemplate": "is_in=False<br>bronzepct=%{x}<br>total=%{y}<br>country=%{text}<extra></extra>",
         "legendgroup": "False",
         "marker": {
          "color": "green",
          "symbol": "circle"
         },
         "mode": "markers+text",
         "name": "False",
         "orientation": "v",
         "showlegend": true,
         "text": [
          "AIN",
          "Algeria",
          "Argentina",
          "Armenia",
          "Australia",
          "Azerbaijan",
          "Bahrain",
          "Botswana",
          "Brazil",
          "Cabo Verde",
          "Canada",
          "Chile",
          "China",
          "Chinese Taipei",
          "Colombia",
          "Cuba",
          "Czechia",
          "Côte d'Ivoire",
          "DPR Korea",
          "Dominica",
          "Dominican Republic",
          "EOR",
          "Ecuador",
          "Egypt",
          "Ethiopia",
          "Fiji",
          "Georgia",
          "Grenada",
          "Guatemala",
          "Hong Kong, China",
          "IR Iran",
          "India",
          "Indonesia",
          "Israel",
          "Jamaica",
          "Japan",
          "Jordan",
          "Kazakhstan",
          "Kenya",
          "Korea",
          "Kosovo",
          "Kyrgyzstan",
          "Malaysia",
          "Mexico",
          "Mongolia",
          "Morocco",
          "New Zealand",
          "Pakistan",
          "Panama",
          "Peru",
          "Philippines",
          "Puerto Rico",
          "Qatar",
          "Republic of Moldova",
          "Saint Lucia",
          "Singapore",
          "South Africa",
          "Tajikistan",
          "Thailand",
          "Tunisia",
          "Türkiye",
          "Uganda",
          "United States",
          "Uzbekistan",
          "Zambia"
         ],
         "textposition": "top center",
         "type": "scatter",
         "x": [
          0.2,
          0.3333333333333333,
          0.3333333333333333,
          0.25,
          0.3018867924528302,
          0.42857142857142855,
          0.25,
          0,
          0.5,
          1,
          0.4074074074074074,
          0,
          0.26373626373626374,
          0.7142857142857143,
          0.25,
          0.6666666666666666,
          0.4,
          1,
          0.6666666666666666,
          0,
          0.6666666666666666,
          1,
          0.4,
          0.3333333333333333,
          0,
          0,
          0.14285714285714285,
          1,
          0.5,
          0.5,
          0.25,
          0.8333333333333334,
          0,
          0.14285714285714285,
          0.3333333333333333,
          0.28888888888888886,
          0,
          0.42857142857142855,
          0.45454545454545453,
          0.3125,
          0.5,
          0.6666666666666666,
          1,
          0.4,
          0,
          0.5,
          0.15,
          0,
          0,
          1,
          0.5,
          1,
          1,
          0.75,
          0,
          1,
          0.3333333333333333,
          1,
          0.3333333333333333,
          0.3333333333333333,
          0.625,
          0,
          0.3333333333333333,
          0.23076923076923078,
          1
         ],
         "xaxis": "x",
         "y": [
          5,
          3,
          3,
          4,
          53,
          7,
          4,
          2,
          20,
          1,
          27,
          2,
          91,
          7,
          4,
          9,
          5,
          1,
          6,
          1,
          3,
          1,
          5,
          3,
          4,
          1,
          7,
          2,
          2,
          4,
          12,
          6,
          2,
          7,
          6,
          45,
          1,
          7,
          11,
          32,
          2,
          6,
          2,
          5,
          1,
          2,
          20,
          1,
          1,
          1,
          4,
          2,
          1,
          4,
          2,
          1,
          6,
          3,
          6,
          3,
          8,
          2,
          126,
          13,
          1
         ],
         "yaxis": "y"
        },
        {
         "hovertemplate": "is_in=True<br>bronzepct=%{x}<br>total=%{y}<br>country=%{text}<extra></extra>",
         "legendgroup": "True",
         "marker": {
          "color": "red",
          "symbol": "circle"
         },
         "mode": "markers+text",
         "name": "True",
         "orientation": "v",
         "showlegend": true,
         "text": [
          "Albania",
          "Austria",
          "Belgium",
          "Bulgaria",
          "Croatia",
          "Cyprus",
          "Denmark",
          "France",
          "Germany",
          "Great Britain",
          "Greece",
          "Hungary",
          "Ireland",
          "Italy",
          "Lithuania",
          "Netherlands",
          "Norway",
          "Poland",
          "Portugal",
          "Romania",
          "Serbia",
          "Slovakia",
          "Slovenia",
          "Spain",
          "Sweden",
          "Switzerland",
          "Ukraine"
         ],
         "textposition": "top center",
         "type": "scatter",
         "x": [
          1,
          0.6,
          0.6,
          0.42857142857142855,
          0.42857142857142855,
          0,
          0.5555555555555556,
          0.34375,
          0.24242424242424243,
          0.4461538461538462,
          0.75,
          0.3157894736842105,
          0.42857142857142855,
          0.375,
          0.5,
          0.35294117647058826,
          0.375,
          0.5,
          0.25,
          0.2222222222222222,
          0.2,
          1,
          0,
          0.5,
          0.2727272727272727,
          0.625,
          0.3333333333333333
         ],
         "xaxis": "x",
         "y": [
          2,
          5,
          10,
          7,
          7,
          1,
          9,
          64,
          33,
          65,
          8,
          19,
          7,
          40,
          4,
          34,
          8,
          10,
          4,
          9,
          5,
          1,
          3,
          18,
          11,
          8,
          12
         ],
         "yaxis": "y"
        }
       ],
       "layout": {
        "legend": {
         "title": {
          "text": "is_in"
         },
         "tracegroupgap": 0
        },
        "shapes": [
         {
          "line": {
           "color": "blue",
           "width": 1
          },
          "type": "line",
          "x0": 0.3333,
          "x1": 0.3333,
          "y0": 0,
          "y1": 140
         }
        ],
        "template": {
         "data": {
          "bar": [
           {
            "error_x": {
             "color": "#2a3f5f"
            },
            "error_y": {
             "color": "#2a3f5f"
            },
            "marker": {
             "line": {
              "color": "#E5ECF6",
              "width": 0.5
             }
            },
            "type": "bar"
           }
          ],
          "barpolar": [
           {
            "marker": {
             "line": {
              "color": "#E5ECF6",
              "width": 0.5
             }
            },
            "type": "barpolar"
           }
          ],
          "carpet": [
           {
            "aaxis": {
             "endlinecolor": "#2a3f5f",
             "gridcolor": "white",
             "linecolor": "white",
             "minorgridcolor": "white",
             "startlinecolor": "#2a3f5f"
            },
            "baxis": {
             "endlinecolor": "#2a3f5f",
             "gridcolor": "white",
             "linecolor": "white",
             "minorgridcolor": "white",
             "startlinecolor": "#2a3f5f"
            },
            "type": "carpet"
           }
          ],
          "choropleth": [
           {
            "colorbar": {
             "outlinewidth": 0,
             "ticks": ""
            },
            "type": "choropleth"
           }
          ],
          "contour": [
           {
            "colorbar": {
             "outlinewidth": 0,
             "ticks": ""
            },
            "colorscale": [
             [
              0,
              "#0d0887"
             ],
             [
              0.1111111111111111,
              "#46039f"
             ],
             [
              0.2222222222222222,
              "#7201a8"
             ],
             [
              0.3333333333333333,
              "#9c179e"
             ],
             [
              0.4444444444444444,
              "#bd3786"
             ],
             [
              0.5555555555555556,
              "#d8576b"
             ],
             [
              0.6666666666666666,
              "#ed7953"
             ],
             [
              0.7777777777777778,
              "#fb9f3a"
             ],
             [
              0.8888888888888888,
              "#fdca26"
             ],
             [
              1,
              "#f0f921"
             ]
            ],
            "type": "contour"
           }
          ],
          "contourcarpet": [
           {
            "colorbar": {
             "outlinewidth": 0,
             "ticks": ""
            },
            "type": "contourcarpet"
           }
          ],
          "heatmap": [
           {
            "colorbar": {
             "outlinewidth": 0,
             "ticks": ""
            },
            "colorscale": [
             [
              0,
              "#0d0887"
             ],
             [
              0.1111111111111111,
              "#46039f"
             ],
             [
              0.2222222222222222,
              "#7201a8"
             ],
             [
              0.3333333333333333,
              "#9c179e"
             ],
             [
              0.4444444444444444,
              "#bd3786"
             ],
             [
              0.5555555555555556,
              "#d8576b"
             ],
             [
              0.6666666666666666,
              "#ed7953"
             ],
             [
              0.7777777777777778,
              "#fb9f3a"
             ],
             [
              0.8888888888888888,
              "#fdca26"
             ],
             [
              1,
              "#f0f921"
             ]
            ],
            "type": "heatmap"
           }
          ],
          "heatmapgl": [
           {
            "colorbar": {
             "outlinewidth": 0,
             "ticks": ""
            },
            "colorscale": [
             [
              0,
              "#0d0887"
             ],
             [
              0.1111111111111111,
              "#46039f"
             ],
             [
              0.2222222222222222,
              "#7201a8"
             ],
             [
              0.3333333333333333,
              "#9c179e"
             ],
             [
              0.4444444444444444,
              "#bd3786"
             ],
             [
              0.5555555555555556,
              "#d8576b"
             ],
             [
              0.6666666666666666,
              "#ed7953"
             ],
             [
              0.7777777777777778,
              "#fb9f3a"
             ],
             [
              0.8888888888888888,
              "#fdca26"
             ],
             [
              1,
              "#f0f921"
             ]
            ],
            "type": "heatmapgl"
           }
          ],
          "histogram": [
           {
            "marker": {
             "colorbar": {
              "outlinewidth": 0,
              "ticks": ""
             }
            },
            "type": "histogram"
           }
          ],
          "histogram2d": [
           {
            "colorbar": {
             "outlinewidth": 0,
             "ticks": ""
            },
            "colorscale": [
             [
              0,
              "#0d0887"
             ],
             [
              0.1111111111111111,
              "#46039f"
             ],
             [
              0.2222222222222222,
              "#7201a8"
             ],
             [
              0.3333333333333333,
              "#9c179e"
             ],
             [
              0.4444444444444444,
              "#bd3786"
             ],
             [
              0.5555555555555556,
              "#d8576b"
             ],
             [
              0.6666666666666666,
              "#ed7953"
             ],
             [
              0.7777777777777778,
              "#fb9f3a"
             ],
             [
              0.8888888888888888,
              "#fdca26"
             ],
             [
              1,
              "#f0f921"
             ]
            ],
            "type": "histogram2d"
           }
          ],
          "histogram2dcontour": [
           {
            "colorbar": {
             "outlinewidth": 0,
             "ticks": ""
            },
            "colorscale": [
             [
              0,
              "#0d0887"
             ],
             [
              0.1111111111111111,
              "#46039f"
             ],
             [
              0.2222222222222222,
              "#7201a8"
             ],
             [
              0.3333333333333333,
              "#9c179e"
             ],
             [
              0.4444444444444444,
              "#bd3786"
             ],
             [
              0.5555555555555556,
              "#d8576b"
             ],
             [
              0.6666666666666666,
              "#ed7953"
             ],
             [
              0.7777777777777778,
              "#fb9f3a"
             ],
             [
              0.8888888888888888,
              "#fdca26"
             ],
             [
              1,
              "#f0f921"
             ]
            ],
            "type": "histogram2dcontour"
           }
          ],
          "mesh3d": [
           {
            "colorbar": {
             "outlinewidth": 0,
             "ticks": ""
            },
            "type": "mesh3d"
           }
          ],
          "parcoords": [
           {
            "line": {
             "colorbar": {
              "outlinewidth": 0,
              "ticks": ""
             }
            },
            "type": "parcoords"
           }
          ],
          "pie": [
           {
            "automargin": true,
            "type": "pie"
           }
          ],
          "scatter": [
           {
            "marker": {
             "colorbar": {
              "outlinewidth": 0,
              "ticks": ""
             }
            },
            "type": "scatter"
           }
          ],
          "scatter3d": [
           {
            "line": {
             "colorbar": {
              "outlinewidth": 0,
              "ticks": ""
             }
            },
            "marker": {
             "colorbar": {
              "outlinewidth": 0,
              "ticks": ""
             }
            },
            "type": "scatter3d"
           }
          ],
          "scattercarpet": [
           {
            "marker": {
             "colorbar": {
              "outlinewidth": 0,
              "ticks": ""
             }
            },
            "type": "scattercarpet"
           }
          ],
          "scattergeo": [
           {
            "marker": {
             "colorbar": {
              "outlinewidth": 0,
              "ticks": ""
             }
            },
            "type": "scattergeo"
           }
          ],
          "scattergl": [
           {
            "marker": {
             "colorbar": {
              "outlinewidth": 0,
              "ticks": ""
             }
            },
            "type": "scattergl"
           }
          ],
          "scattermapbox": [
           {
            "marker": {
             "colorbar": {
              "outlinewidth": 0,
              "ticks": ""
             }
            },
            "type": "scattermapbox"
           }
          ],
          "scatterpolar": [
           {
            "marker": {
             "colorbar": {
              "outlinewidth": 0,
              "ticks": ""
             }
            },
            "type": "scatterpolar"
           }
          ],
          "scatterpolargl": [
           {
            "marker": {
             "colorbar": {
              "outlinewidth": 0,
              "ticks": ""
             }
            },
            "type": "scatterpolargl"
           }
          ],
          "scatterternary": [
           {
            "marker": {
             "colorbar": {
              "outlinewidth": 0,
              "ticks": ""
             }
            },
            "type": "scatterternary"
           }
          ],
          "surface": [
           {
            "colorbar": {
             "outlinewidth": 0,
             "ticks": ""
            },
            "colorscale": [
             [
              0,
              "#0d0887"
             ],
             [
              0.1111111111111111,
              "#46039f"
             ],
             [
              0.2222222222222222,
              "#7201a8"
             ],
             [
              0.3333333333333333,
              "#9c179e"
             ],
             [
              0.4444444444444444,
              "#bd3786"
             ],
             [
              0.5555555555555556,
              "#d8576b"
             ],
             [
              0.6666666666666666,
              "#ed7953"
             ],
             [
              0.7777777777777778,
              "#fb9f3a"
             ],
             [
              0.8888888888888888,
              "#fdca26"
             ],
             [
              1,
              "#f0f921"
             ]
            ],
            "type": "surface"
           }
          ],
          "table": [
           {
            "cells": {
             "fill": {
              "color": "#EBF0F8"
             },
             "line": {
              "color": "white"
             }
            },
            "header": {
             "fill": {
              "color": "#C8D4E3"
             },
             "line": {
              "color": "white"
             }
            },
            "type": "table"
           }
          ]
         },
         "layout": {
          "annotationdefaults": {
           "arrowcolor": "#2a3f5f",
           "arrowhead": 0,
           "arrowwidth": 1
          },
          "autotypenumbers": "strict",
          "coloraxis": {
           "colorbar": {
            "outlinewidth": 0,
            "ticks": ""
           }
          },
          "colorscale": {
           "diverging": [
            [
             0,
             "#8e0152"
            ],
            [
             0.1,
             "#c51b7d"
            ],
            [
             0.2,
             "#de77ae"
            ],
            [
             0.3,
             "#f1b6da"
            ],
            [
             0.4,
             "#fde0ef"
            ],
            [
             0.5,
             "#f7f7f7"
            ],
            [
             0.6,
             "#e6f5d0"
            ],
            [
             0.7,
             "#b8e186"
            ],
            [
             0.8,
             "#7fbc41"
            ],
            [
             0.9,
             "#4d9221"
            ],
            [
             1,
             "#276419"
            ]
           ],
           "sequential": [
            [
             0,
             "#0d0887"
            ],
            [
             0.1111111111111111,
             "#46039f"
            ],
            [
             0.2222222222222222,
             "#7201a8"
            ],
            [
             0.3333333333333333,
             "#9c179e"
            ],
            [
             0.4444444444444444,
             "#bd3786"
            ],
            [
             0.5555555555555556,
             "#d8576b"
            ],
            [
             0.6666666666666666,
             "#ed7953"
            ],
            [
             0.7777777777777778,
             "#fb9f3a"
            ],
            [
             0.8888888888888888,
             "#fdca26"
            ],
            [
             1,
             "#f0f921"
            ]
           ],
           "sequentialminus": [
            [
             0,
             "#0d0887"
            ],
            [
             0.1111111111111111,
             "#46039f"
            ],
            [
             0.2222222222222222,
             "#7201a8"
            ],
            [
             0.3333333333333333,
             "#9c179e"
            ],
            [
             0.4444444444444444,
             "#bd3786"
            ],
            [
             0.5555555555555556,
             "#d8576b"
            ],
            [
             0.6666666666666666,
             "#ed7953"
            ],
            [
             0.7777777777777778,
             "#fb9f3a"
            ],
            [
             0.8888888888888888,
             "#fdca26"
            ],
            [
             1,
             "#f0f921"
            ]
           ]
          },
          "colorway": [
           "#636efa",
           "#EF553B",
           "#00cc96",
           "#ab63fa",
           "#FFA15A",
           "#19d3f3",
           "#FF6692",
           "#B6E880",
           "#FF97FF",
           "#FECB52"
          ],
          "font": {
           "color": "#2a3f5f"
          },
          "geo": {
           "bgcolor": "white",
           "lakecolor": "white",
           "landcolor": "#E5ECF6",
           "showlakes": true,
           "showland": true,
           "subunitcolor": "white"
          },
          "hoverlabel": {
           "align": "left"
          },
          "hovermode": "closest",
          "mapbox": {
           "style": "light"
          },
          "paper_bgcolor": "white",
          "plot_bgcolor": "#E5ECF6",
          "polar": {
           "angularaxis": {
            "gridcolor": "white",
            "linecolor": "white",
            "ticks": ""
           },
           "bgcolor": "#E5ECF6",
           "radialaxis": {
            "gridcolor": "white",
            "linecolor": "white",
            "ticks": ""
           }
          },
          "scene": {
           "xaxis": {
            "backgroundcolor": "#E5ECF6",
            "gridcolor": "white",
            "gridwidth": 2,
            "linecolor": "white",
            "showbackground": true,
            "ticks": "",
            "zerolinecolor": "white"
           },
           "yaxis": {
            "backgroundcolor": "#E5ECF6",
            "gridcolor": "white",
            "gridwidth": 2,
            "linecolor": "white",
            "showbackground": true,
            "ticks": "",
            "zerolinecolor": "white"
           },
           "zaxis": {
            "backgroundcolor": "#E5ECF6",
            "gridcolor": "white",
            "gridwidth": 2,
            "linecolor": "white",
            "showbackground": true,
            "ticks": "",
            "zerolinecolor": "white"
           }
          },
          "shapedefaults": {
           "line": {
            "color": "#2a3f5f"
           }
          },
          "ternary": {
           "aaxis": {
            "gridcolor": "white",
            "linecolor": "white",
            "ticks": ""
           },
           "baxis": {
            "gridcolor": "white",
            "linecolor": "white",
            "ticks": ""
           },
           "bgcolor": "#E5ECF6",
           "caxis": {
            "gridcolor": "white",
            "linecolor": "white",
            "ticks": ""
           }
          },
          "title": {
           "x": 0.05
          },
          "xaxis": {
           "automargin": true,
           "gridcolor": "white",
           "linecolor": "white",
           "ticks": "",
           "title": {
            "standoff": 15
           },
           "zerolinecolor": "white",
           "zerolinewidth": 2
          },
          "yaxis": {
           "automargin": true,
           "gridcolor": "white",
           "linecolor": "white",
           "ticks": "",
           "title": {
            "standoff": 15
           },
           "zerolinecolor": "white",
           "zerolinewidth": 2
          }
         }
        },
        "title": {
         "text": "Win Percentage vs Total Medals"
        },
        "xaxis": {
         "anchor": "y",
         "domain": [
          0,
          1
         ],
         "title": {
          "text": "bronzepct"
         }
        },
        "yaxis": {
         "anchor": "x",
         "domain": [
          0,
          1
         ],
         "title": {
          "text": "total"
         }
        }
       }
      }
     },
     "metadata": {},
     "output_type": "display_data"
    }
   ],
   "source": [
    "# Let's graph bronze as a function of total medals\n",
    "fig = px.scatter(\n",
    "    medal_counts,\n",
    "    x=\"bronzepct\",\n",
    "    y=\"total\",\n",
    "    text=medal_counts.index,\n",
    "    title=\"Win Percentage vs Total Medals\",\n",
    "    color=medal_counts[\"is_in\"],  # Add color based on the \"is_in\" column\n",
    "    color_discrete_map={True: \"red\", False: \"green\"},  # Define color mapping\n",
    ")\n",
    "fig.update_traces(textposition='top center')\n",
    "# plot 33% line\n",
    "fig.add_shape(\n",
    "    type=\"line\",\n",
    "    x0=0.3333,\n",
    "    x1=0.3333,\n",
    "    y0=0,\n",
    "    y1=140,\n",
    "    line=dict(color=\"blue\", width=1),\n",
    ")\n",
    "fig.show()"
   ]
  },
  {
   "cell_type": "code",
   "execution_count": 29,
   "metadata": {},
   "outputs": [
    {
     "name": "stdout",
     "output_type": "stream",
     "text": [
      "0.5471698113207547\n"
     ]
    },
    {
     "data": {
      "text/html": [
       "<div>\n",
       "<style scoped>\n",
       "    .dataframe tbody tr th:only-of-type {\n",
       "        vertical-align: middle;\n",
       "    }\n",
       "\n",
       "    .dataframe tbody tr th {\n",
       "        vertical-align: top;\n",
       "    }\n",
       "\n",
       "    .dataframe thead th {\n",
       "        text-align: right;\n",
       "    }\n",
       "</style>\n",
       "<table border=\"1\" class=\"dataframe\">\n",
       "  <thead>\n",
       "    <tr style=\"text-align: right;\">\n",
       "      <th>medal_code</th>\n",
       "      <th>1.0</th>\n",
       "      <th>2.0</th>\n",
       "      <th>3.0</th>\n",
       "      <th>total</th>\n",
       "      <th>winpct</th>\n",
       "      <th>bronzepct</th>\n",
       "      <th>is_in</th>\n",
       "      <th>bronzeContrib</th>\n",
       "    </tr>\n",
       "    <tr>\n",
       "      <th>country</th>\n",
       "      <th></th>\n",
       "      <th></th>\n",
       "      <th></th>\n",
       "      <th></th>\n",
       "      <th></th>\n",
       "      <th></th>\n",
       "      <th></th>\n",
       "      <th></th>\n",
       "    </tr>\n",
       "  </thead>\n",
       "  <tbody>\n",
       "    <tr>\n",
       "      <th>France</th>\n",
       "      <td>16.0</td>\n",
       "      <td>26.0</td>\n",
       "      <td>22.0</td>\n",
       "      <td>64.0</td>\n",
       "      <td>0.250000</td>\n",
       "      <td>0.343750</td>\n",
       "      <td>True</td>\n",
       "      <td>0.138365</td>\n",
       "    </tr>\n",
       "    <tr>\n",
       "      <th>Great Britain</th>\n",
       "      <td>14.0</td>\n",
       "      <td>22.0</td>\n",
       "      <td>29.0</td>\n",
       "      <td>65.0</td>\n",
       "      <td>0.215385</td>\n",
       "      <td>0.446154</td>\n",
       "      <td>True</td>\n",
       "      <td>0.182390</td>\n",
       "    </tr>\n",
       "    <tr>\n",
       "      <th>Italy</th>\n",
       "      <td>12.0</td>\n",
       "      <td>13.0</td>\n",
       "      <td>15.0</td>\n",
       "      <td>40.0</td>\n",
       "      <td>0.300000</td>\n",
       "      <td>0.375000</td>\n",
       "      <td>True</td>\n",
       "      <td>0.094340</td>\n",
       "    </tr>\n",
       "    <tr>\n",
       "      <th>Netherlands</th>\n",
       "      <td>15.0</td>\n",
       "      <td>7.0</td>\n",
       "      <td>12.0</td>\n",
       "      <td>34.0</td>\n",
       "      <td>0.441176</td>\n",
       "      <td>0.352941</td>\n",
       "      <td>True</td>\n",
       "      <td>0.075472</td>\n",
       "    </tr>\n",
       "    <tr>\n",
       "      <th>Spain</th>\n",
       "      <td>5.0</td>\n",
       "      <td>4.0</td>\n",
       "      <td>9.0</td>\n",
       "      <td>18.0</td>\n",
       "      <td>0.277778</td>\n",
       "      <td>0.500000</td>\n",
       "      <td>True</td>\n",
       "      <td>0.056604</td>\n",
       "    </tr>\n",
       "  </tbody>\n",
       "</table>\n",
       "</div>"
      ],
      "text/plain": [
       "medal_code      1.0   2.0   3.0  total    winpct  bronzepct  is_in  \\\n",
       "country                                                              \n",
       "France         16.0  26.0  22.0   64.0  0.250000   0.343750   True   \n",
       "Great Britain  14.0  22.0  29.0   65.0  0.215385   0.446154   True   \n",
       "Italy          12.0  13.0  15.0   40.0  0.300000   0.375000   True   \n",
       "Netherlands    15.0   7.0  12.0   34.0  0.441176   0.352941   True   \n",
       "Spain           5.0   4.0   9.0   18.0  0.277778   0.500000   True   \n",
       "\n",
       "medal_code     bronzeContrib  \n",
       "country                       \n",
       "France              0.138365  \n",
       "Great Britain       0.182390  \n",
       "Italy               0.094340  \n",
       "Netherlands         0.075472  \n",
       "Spain               0.056604  "
      ]
     },
     "execution_count": 29,
     "metadata": {},
     "output_type": "execute_result"
    }
   ],
   "source": [
    "# Let's look at each countries contribution to the bronze medals won by the set\n",
    "insample = medal_counts[medal_counts[\"is_in\"]].copy()\n",
    "t = insample[3].sum()\n",
    "insample[\"bronzeContrib\"] = medal_counts[3] / t\n",
    "top = insample[(insample[3] > 3) & (insample[\"bronzepct\"] > 0.33) & (insample[\"bronzeContrib\"] > 0.05)]\n",
    "print(top['bronzeContrib'].sum())\n",
    "top"
   ]
  },
  {
   "cell_type": "markdown",
   "metadata": {},
   "source": [
    "Two phenomena are occuring simultaneously.\n",
    "\n",
    "The first, is that the majority of countries are winning more bronze medals than anything else.\n",
    "Countries that win more medals tend to meanrevert to 33% bronze with countries that win less in total (but still some), favoring a 3rd place finish.\n",
    "I show that this is expalined by event dominance (and we can infer that this, itself, is likely expalained through a function of funding and population differences).\n",
    "\n",
    "However, this is not what's effecting our sample of European countries.<br>\n",
    "More than half of the bonze medals won by the countries in our sample are won by countries that are winning lots of medals AND still disspropotionally bronze.\n",
    "\n",
    "The second phenomenon we see is that, countries that are winning the most medals for Europe (and thus are effecting the total counts the most) are mostly (more than the normalized 33%) winning bronze.\n",
    "This is because they in events where they perform well enough to podium, they are generally performing worse than a few other countries that are not in our sample (namely China and to a lesser extent the US, Korea, and Uzbekistan).\n",
    "This condition sufficiently explains the distribution of Bronze finishes for the population of European countries both individually and in aggregate."
   ]
  },
  {
   "cell_type": "code",
   "execution_count": 31,
   "metadata": {},
   "outputs": [
    {
     "data": {
      "text/plain": [
       "medal_type\n",
       "Silver Medal    0.347826\n",
       "Gold Medal      0.326087\n",
       "Bronze Medal    0.326087\n",
       "Name: proportion, dtype: float64"
      ]
     },
     "execution_count": 31,
     "metadata": {},
     "output_type": "execute_result"
    }
   ],
   "source": [
    "# What would happen if we removed these countries from the sample?\n",
    "wins_df[\n",
    "    (wins_df[\"medal_wins\"] == 1)\n",
    "    & (wins_df[\"country\"] != \"Great Britain\")\n",
    "    & (wins_df[\"country\"] != \"France\")\n",
    "    & (wins_df[\"country\"] != \"Italy\")\n",
    "    & (wins_df[\"country\"] != \"Netherlands\")\n",
    "    & (wins_df[\"country\"] != \"Spain\")\n",
    "][\"medal_type\"].value_counts(normalize=True) # <- the medal distribution is now as expected"
   ]
  }
 ],
 "metadata": {
  "kernelspec": {
   "display_name": "Python 3",
   "language": "python",
   "name": "python3"
  },
  "language_info": {
   "codemirror_mode": {
    "name": "ipython",
    "version": 3
   },
   "file_extension": ".py",
   "mimetype": "text/x-python",
   "name": "python",
   "nbconvert_exporter": "python",
   "pygments_lexer": "ipython3",
   "version": "3.11.5"
  }
 },
 "nbformat": 4,
 "nbformat_minor": 2
}
